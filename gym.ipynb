{
 "cells": [
  {
   "cell_type": "code",
   "execution_count": 2,
   "metadata": {},
   "outputs": [],
   "source": [
    "import gym \n",
    "import pygame\n",
    "import sys\n",
    "import networkx as nx\n",
    "import matplotlib.pyplot as plt"
   ]
  },
  {
   "cell_type": "code",
   "execution_count": 3,
   "metadata": {},
   "outputs": [
    {
     "name": "stdout",
     "output_type": "stream",
     "text": [
      "Shortest path: [1, 2, 3, 4, 5, 11, 17, 23, 22, 28, 27, 26, 25, 31, 30]\n",
      "[0, 6, 1, 0]\n"
     ]
    },
    {
     "name": "stderr",
     "output_type": "stream",
     "text": [
      "c:\\Users\\Casper\\anaconda3\\Lib\\site-packages\\gym\\utils\\passive_env_checker.py:233: DeprecationWarning: `np.bool8` is a deprecated alias for `np.bool_`.  (Deprecated NumPy 1.24)\n",
      "  if not isinstance(terminated, (bool, np.bool8)):\n"
     ]
    }
   ],
   "source": [
    "my_map = [\n",
    "    \"SFFFFF\",\n",
    "    \"HFFFFF\",\n",
    "    \"FHFFHF\",\n",
    "    \"FFHHFF\",\n",
    "    \"HFFFFF\",\n",
    "    \"GFFFFF\"\n",
    "]\n",
    "\n",
    "def getMatrixFromEnv(environment: gym.Env):\n",
    "    mat = []\n",
    "    for state in range(environment.observation_space.n):\n",
    "        row = []\n",
    "        for action in range(environment.action_space.n):\n",
    "            row += [environment.P[state][action][0][1]]\n",
    "        mat += [row]\n",
    "    return mat\n",
    "\n",
    "def create_graph(matrix):\n",
    "    G = nx.DiGraph()\n",
    "\n",
    "    for state in range(len(matrix)):\n",
    "        for action in range(len(matrix[state])):\n",
    "            prob = matrix[state][action]\n",
    "            if prob > 0:\n",
    "                next_state = environment.P[state][action][0][1]\n",
    "                G.add_edge(state, next_state, weight=prob, action=action)\n",
    "\n",
    "    return G\n",
    "\n",
    "\n",
    "for i in range(len(my_map)):\n",
    "    for j in range(len(my_map[i])):\n",
    "        if(my_map[i][j] == \"S\"):\n",
    "            start = (i * 6) + j\n",
    "        elif(my_map[i][j] == \"G\"):\n",
    "            goal = (i * 6) + j\n",
    "            \n",
    "\n",
    "environment = gym.make(\"FrozenLake-v1\", desc=my_map, map_name=\"my_map\", is_slippery=False,render_mode=\"human\")\n",
    "init_state = environment.reset()[0]\n",
    "matrix = getMatrixFromEnv(environment)\n",
    "\n",
    "G = create_graph(matrix)\n",
    "\n",
    "state_sequence = nx.shortest_path(G, start, goal)  \n",
    "state_sequence.pop(0)\n",
    "print(\"Shortest path:\", state_sequence)\n",
    "print(matrix[start])\n",
    "k = start\n",
    "for i in range(len(state_sequence)):\n",
    "    for j in range(len(matrix[i])):\n",
    "        if(matrix[k][j] == state_sequence[i]):\n",
    "            environment.step(j)\n",
    "            k = state_sequence[i]\n",
    "            break\n",
    "               \n",
    "            "
   ]
  },
  {
   "cell_type": "code",
   "execution_count": 20,
   "metadata": {},
   "outputs": [
    {
     "name": "stdout",
     "output_type": "stream",
     "text": [
      "Shortest path: [1, 7, 8, 9, 10, 11, 17, 23, 22, 28, 27, 26, 25, 31, 30]\n"
     ]
    }
   ],
   "source": [
    "init_state = environment.reset()[0]\n",
    "\n",
    "def shortest_path(graph, node1, node2):\n",
    "    path_list = [[node1]]\n",
    "    path_index = 0\n",
    "    previous_nodes = {node1}\n",
    "    if node1 == node2:\n",
    "        return path_list[0]\n",
    "        \n",
    "    while path_index < len(path_list):\n",
    "        current_path = path_list[path_index]\n",
    "        last_node = current_path[-1]\n",
    "        next_nodes = graph[last_node]\n",
    "        if node2 in next_nodes:\n",
    "            current_path.append(node2)\n",
    "            return current_path\n",
    "        for next_node in next_nodes:\n",
    "            if not next_node in previous_nodes:\n",
    "                new_path = current_path[:]\n",
    "                new_path.append(next_node)\n",
    "                path_list.append(new_path)\n",
    "                previous_nodes.add(next_node)\n",
    "        path_index += 1\n",
    "    return []\n",
    "\n",
    "state_sequence = shortest_path(G, start, goal)  \n",
    "state_sequence.pop(0)\n",
    "print(\"Shortest path:\", state_sequence)\n",
    "k = start\n",
    "for i in range(len(state_sequence)):\n",
    "    for j in range(len(matrix[i])):\n",
    "        if(matrix[k][j] == state_sequence[i]):\n",
    "            environment.step(j)\n",
    "            k = state_sequence[i]\n",
    "            break\n",
    "               \n",
    "            \n",
    "\n"
   ]
  }
 ],
 "metadata": {
  "kernelspec": {
   "display_name": "base",
   "language": "python",
   "name": "python3"
  },
  "language_info": {
   "codemirror_mode": {
    "name": "ipython",
    "version": 3
   },
   "file_extension": ".py",
   "mimetype": "text/x-python",
   "name": "python",
   "nbconvert_exporter": "python",
   "pygments_lexer": "ipython3",
   "version": "3.11.5"
  }
 },
 "nbformat": 4,
 "nbformat_minor": 2
}
